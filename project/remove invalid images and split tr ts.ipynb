{
 "cells": [
  {
   "cell_type": "code",
   "execution_count": 1,
   "metadata": {},
   "outputs": [],
   "source": [
    "import os\n",
    "import glob\n",
    "import cv2\n",
    "import numpy as np"
   ]
  },
  {
   "cell_type": "code",
   "execution_count": 2,
   "metadata": {},
   "outputs": [],
   "source": [
    "i = 0\n",
    "for img in glob.glob(r\"../../images/person/test/*.jpg\"):\n",
    "    n= cv2.imread(img)#BGR\n",
    "    if  n is None or np.mean(n)>250 or np.mean(np.std(n,axis=2))<2:\n",
    "        os.remove(img)\n",
    "    else:\n",
    "        if i<2000:\n",
    "            i+=1\n",
    "            \n",
    "            os.rename(img,r\"../../images/person/test/train/\"+str(i)+\".jpg\")\n",
    "        elif i>=2000 and i<2500:\n",
    "            i+=1\n",
    "            os.rename(img,r\"../../images/person/test/test/\"+str(i)+\".jpg\")\n",
    "        else:\n",
    "            break"
   ]
  },
  {
   "cell_type": "code",
   "execution_count": 12,
   "metadata": {},
   "outputs": [],
   "source": [
    "i = 484\n",
    "for img in glob.glob(r\"../../images/person/test/*.jpg\"):\n",
    "    if i>=484 and i<500:\n",
    "        i+=1\n",
    "        os.rename(img,r\"../../images/person/test/test/\"+str(i)+\".jpg\")\n",
    "    else:\n",
    "        break"
   ]
  },
  {
   "cell_type": "code",
   "execution_count": 14,
   "metadata": {},
   "outputs": [
    {
     "data": {
      "text/plain": [
       "'../../images/person/test/4176212093_7e8c03d211.jpg'"
      ]
     },
     "execution_count": 14,
     "metadata": {},
     "output_type": "execute_result"
    }
   ],
   "source": [
    "img"
   ]
  },
  {
   "cell_type": "code",
   "execution_count": 5,
   "metadata": {},
   "outputs": [],
   "source": [
    "import chardet"
   ]
  },
  {
   "cell_type": "code",
   "execution_count": 21,
   "metadata": {},
   "outputs": [],
   "source": [
    "i=0\n",
    "for img in glob.glob(r\"../../images/person/test/*.jpg\"):\n",
    "    if i>1700:\n",
    "        os.remove(img)\n",
    "    i+=1\n",
    "    if i ==1800:\n",
    "        break"
   ]
  },
  {
   "cell_type": "code",
   "execution_count": null,
   "metadata": {},
   "outputs": [],
   "source": []
  }
 ],
 "metadata": {
  "kernelspec": {
   "display_name": "Python 3",
   "language": "python",
   "name": "python3"
  },
  "language_info": {
   "codemirror_mode": {
    "name": "ipython",
    "version": 3
   },
   "file_extension": ".py",
   "mimetype": "text/x-python",
   "name": "python",
   "nbconvert_exporter": "python",
   "pygments_lexer": "ipython3",
   "version": "3.5.2"
  }
 },
 "nbformat": 4,
 "nbformat_minor": 2
}
